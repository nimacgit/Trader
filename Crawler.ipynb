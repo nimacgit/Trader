{
 "cells": [
  {
   "cell_type": "code",
   "execution_count": 29,
   "metadata": {
    "ExecuteTime": {
     "end_time": "2019-07-31T18:16:39.716375Z",
     "start_time": "2019-07-31T18:16:33.983364Z"
    }
   },
   "outputs": [],
   "source": [
    "!pip3 install -q selenium bs4\n",
    "from selenium import webdriver\n",
    "from requests import Session, Request\n",
    "import pickle\n",
    "from bs4 import BeautifulSoup as bs\n",
    "import time\n"
   ]
  },
  {
   "cell_type": "code",
   "execution_count": null,
   "metadata": {},
   "outputs": [],
   "source": []
  },
  {
   "cell_type": "code",
   "execution_count": null,
   "metadata": {
    "ExecuteTime": {
     "start_time": "2019-07-31T18:54:13.756Z"
    }
   },
   "outputs": [
    {
     "name": "stdout",
     "output_type": "stream",
     "text": [
      "1398-1-1\n",
      "1398-1-2\n",
      "1398-1-3\n",
      "1398-1-4\n",
      "1398-1-5\n",
      "1398-1-6\n",
      "1398-1-7\n",
      "1398-1-8\n",
      "1398-1-9\n",
      "1398-1-10\n",
      "1398-1-11\n",
      "1398-1-12\n",
      "1398-1-13\n",
      "1398-1-14\n",
      "1398-1-15\n",
      "1398-1-16\n",
      "1398-1-17\n",
      "1398-1-18\n",
      "1398-1-19\n",
      "1398-1-20\n",
      "1398-1-21\n",
      "1398-1-22\n",
      "1398-1-23\n",
      "1398-1-24\n",
      "1398-1-25\n",
      "1398-1-26\n",
      "1398-1-27\n",
      "1398-1-28\n",
      "1398-1-29\n",
      "1398-1-30\n",
      "1398-1-31\n",
      "1398-2-1\n",
      "1398-2-2\n",
      "1398-2-3\n",
      "1398-2-4\n",
      "1398-2-5\n",
      "1398-2-6\n",
      "1398-2-7\n",
      "1398-2-8\n",
      "1398-2-9\n",
      "1398-2-10\n",
      "1398-2-11\n",
      "1398-2-12\n",
      "1398-2-13\n",
      "1398-2-14\n",
      "1398-2-15\n",
      "1398-2-16\n",
      "1398-2-17\n",
      "1398-2-18\n",
      "1398-2-19\n",
      "1398-2-20\n",
      "1398-2-21\n",
      "1398-2-22\n",
      "1398-2-23\n",
      "1398-2-24\n",
      "1398-2-25\n",
      "1398-2-26\n",
      "1398-2-27\n",
      "1398-2-28\n",
      "1398-2-29\n",
      "1398-2-30\n"
     ]
    }
   ],
   "source": [
    "file_object = open(\"user.pkl\", 'ab')\n",
    "parentPageUrl = 'http://www.tsetmc.com/Loader.aspx?ParTree=15131F'\n",
    "saveLocation = \"../xcels/\"\n",
    "\n",
    "session = Session()\n",
    "request = Request(\"Get\", parentPageUrl)\n",
    "prepared = session.prepare_request(request)\n",
    "respond = session.send(prepared, verify=False)\n",
    "\n",
    "years = [1397,1398]\n",
    "monthDays = [31, 31, 31, 31, 31, 31, 30, 30, 30, 30, 30, 29]\n",
    "\n",
    "for year in years:\n",
    "    for month in range(12):\n",
    "        for day in range(monthDays[month]):\n",
    "            time.sleep(30)\n",
    "            print(str(year) + \"-\" + str(month+1) + \"-\" + str(day+1))\n",
    "            with open(saveLocation + str(year) + \"-\" + str(month+1) + \"-\" + str(day+1) +\n",
    "                      \".xlsx\", 'wb') as f:\n",
    "                xcelUrl = \"http://members.tsetmc.com/tsev2/excel/MarketWatchPlus.aspx?d=\" + \\\n",
    "                    str(year) + \"/\" + str(month+1) + \"/\" + str(day+1)\n",
    "                xcelRequest = Request(\"Get\", xcelUrl)\n",
    "                xcelPrepared = session.prepare_request(xcelRequest)\n",
    "                xcelRespond = session.send(xcelPrepared, verify=False, stream=True)\n",
    "                xcelRespond.raise_for_status()\n",
    "                for chunk in xcelRespond.iter_content(chunk_size=8192): \n",
    "                    if chunk: # filter out keep-alive new chunks\n",
    "                        f.write(chunk)\n",
    "                    # f.flush()\n",
    "print(xcelRespond.cookies)\n",
    "\n"
   ]
  },
  {
   "cell_type": "code",
   "execution_count": null,
   "metadata": {},
   "outputs": [],
   "source": [
    "# # pickle.dump(requests.utils.dict_from_cookiejar(resp.cookies), file_object)\n",
    "\n",
    "# soup = bs(resp.text, 'html.parser')\n",
    "# name = soup.find_all(itemprop='name')\n",
    "# name = [x.get_text() for x in name]\n",
    "# moredis = soup.findAll(\"p\", {\"class\": \"prd-desc more\"})\n",
    "# moredis = [x.get_text() for x in moredis]\n",
    "# weight = soup.findAll(\"span\", {\"class\": \"unit\"})\n",
    "# weight = [x.get_text() for x in weight]\n",
    "\n",
    "# import datetime\n",
    "# now = datetime.datetime.now()\n",
    "\n",
    "# with open('somefile') as f:\n",
    "#     cookies = requests.utils.cookiejar_from_dict(pickle.load(f))\n",
    "#     session = requests.session(cookies=cookies)\n",
    "\n",
    "# from http.cookies import SimpleCookie\n",
    "# rawdata = 'Cookie: _ga=GA1.2.969355752.1534482039;' \\\n",
    "#           ' JSESSIONID=nM0Rmitqyzs4sWMMdOBXB5BDbq09pS3ilLqwUJOV1bCZv_BxQgHS!484861232'\n",
    "# cookie = SimpleCookie()\n",
    "# cookie.load(rawdata)\n"
   ]
  }
 ],
 "metadata": {
  "kernelspec": {
   "display_name": "Python 3",
   "language": "python",
   "name": "python3"
  },
  "language_info": {
   "codemirror_mode": {
    "name": "ipython",
    "version": 3
   },
   "file_extension": ".py",
   "mimetype": "text/x-python",
   "name": "python",
   "nbconvert_exporter": "python",
   "pygments_lexer": "ipython3",
   "version": "3.6.8"
  }
 },
 "nbformat": 4,
 "nbformat_minor": 2
}
