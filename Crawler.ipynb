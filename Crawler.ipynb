{
 "cells": [
  {
   "cell_type": "code",
   "execution_count": 1,
   "metadata": {
    "ExecuteTime": {
     "end_time": "2019-08-27T17:31:44.188522Z",
     "start_time": "2019-08-27T17:31:37.470177Z"
    }
   },
   "outputs": [
    {
     "name": "stderr",
     "output_type": "stream",
     "text": [
      "/home/hpcadminuser/.local/lib/python3.6/site-packages/requests/__init__.py:91: RequestsDependencyWarning: urllib3 (1.25.3) or chardet (3.0.4) doesn't match a supported version!\n",
      "  RequestsDependencyWarning)\n"
     ]
    }
   ],
   "source": [
    "!pip3 install -q selenium bs4\n",
    "from selenium import webdriver\n",
    "from requests import Session, Request\n",
    "import pickle\n",
    "from bs4 import BeautifulSoup as bs\n",
    "import time\n",
    "from pathlib import Path\n",
    "from datetime import date, timedelta\n",
    "# !pip3 install jdatetime\n",
    "# !pip3 install khayyam\n",
    "import jdatetime\n",
    "from khayyam import JalaliDate"
   ]
  },
  {
   "cell_type": "code",
   "execution_count": 5,
   "metadata": {
    "ExecuteTime": {
     "end_time": "2019-08-27T17:32:16.416654Z",
     "start_time": "2019-08-27T17:32:16.393167Z"
    }
   },
   "outputs": [
    {
     "data": {
      "text/plain": [
       "0"
      ]
     },
     "execution_count": 5,
     "metadata": {},
     "output_type": "execute_result"
    }
   ],
   "source": [
    "now = JalaliDate.today().todate()\n",
    "fa_date = jdatetime.date(1380, 1, 1, locale='fa_IR')\n",
    "fanow = JalaliDate(now)\n",
    "shanbe = fanow + timedelta(days=4)\n",
    "shanbe.weekday()"
   ]
  },
  {
   "cell_type": "code",
   "execution_count": 8,
   "metadata": {
    "ExecuteTime": {
     "end_time": "2019-08-27T17:33:25.851702Z",
     "start_time": "2019-08-27T17:33:25.813863Z"
    }
   },
   "outputs": [],
   "source": [
    "file_object = open(\"user.pkl\", 'ab')\n",
    "parentPageUrl = 'http://www.tsetmc.com/Loader.aspx?ParTree=15131F'\n",
    "saveLocation = \"../xcels/\"\n",
    "\n",
    "session = Session()\n",
    "request = Request(\"Get\", parentPageUrl)\n",
    "prepared = session.prepare_request(request)\n",
    "respond = session.send(prepared, verify=False)\n",
    "\n",
    "# startDate = JalaliDate(year=1380, month=1, day=1).todate()\n",
    "startDate = JalaliDate(year=1398, month=5, day=1).todate()\n",
    "endDate = JalaliDate(year=1398, month=6, day=5).todate()\n",
    "# startYear = 1398\n",
    "# endYear = 1399\n",
    "# monthDays = [31, 31, 31, 31, 31, 31, 30, 30, 30, 30, 30, 29]\n",
    "\n",
    "now = startDate\n",
    "while now <= endDate:\n",
    "    jalaldate = JalaliDate(now)\n",
    "    year = jalaldate.year\n",
    "    month = jalaldate.month\n",
    "    day = jalaldate.day\n",
    "    if jalaldate.weekday() < 5 and not Path(saveLocation + str(year) + \"-\" + str(month) + \"-\" + str(day) + \".xlsx\").is_file():\n",
    "        with open(saveLocation + str(year) + \"-\" + str(month) + \"-\" + str(day) +\n",
    "                  \".xlsx\", 'wb') as f:\n",
    "            xcelUrl = \"http://members.tsetmc.com/tsev2/excel/MarketWatchPlus.aspx?d=\" + \\\n",
    "                str(year) + \"/\" + str(month) + \"/\" + str(day)\n",
    "            xcelRequest = Request(\"Get\", xcelUrl)\n",
    "            xcelPrepared = session.prepare_request(xcelRequest)\n",
    "            xcelRespond = session.send(xcelPrepared, verify=False, stream=True)\n",
    "            xcelRespond.raise_for_status()\n",
    "            for chunk in xcelRespond.iter_content(chunk_size=8192): \n",
    "                if chunk: # filter out keep-alive new chunks\n",
    "                    f.write(chunk)\n",
    "                # f.flush()\n",
    "            time.sleep(5)\n",
    "    now = now + timedelta(days=1)"
   ]
  },
  {
   "cell_type": "code",
   "execution_count": null,
   "metadata": {},
   "outputs": [],
   "source": [
    "# # pickle.dump(requests.utils.dict_from_cookiejar(resp.cookies), file_object)\n",
    "\n",
    "# soup = bs(resp.text, 'html.parser')\n",
    "# name = soup.find_all(itemprop='name')\n",
    "# name = [x.get_text() for x in name]\n",
    "# moredis = soup.findAll(\"p\", {\"class\": \"prd-desc more\"})\n",
    "# moredis = [x.get_text() for x in moredis]\n",
    "# weight = soup.findAll(\"span\", {\"class\": \"unit\"})\n",
    "# weight = [x.get_text() for x in weight]\n",
    "\n",
    "# import datetime\n",
    "# now = datetime.datetime.now()\n",
    "\n",
    "# with open('somefile') as f:\n",
    "#     cookies = requests.utils.cookiejar_from_dict(pickle.load(f))\n",
    "#     session = requests.session(cookies=cookies)\n",
    "\n",
    "# from http.cookies import SimpleCookie\n",
    "# rawdata = 'Cookie: _ga=GA1.2.969355752.1534482039;' \\\n",
    "#           ' JSESSIONID=nM0Rmitqyzs4sWMMdOBXB5BDbq09pS3ilLqwUJOV1bCZv_BxQgHS!484861232'\n",
    "# cookie = SimpleCookie()\n",
    "# cookie.load(rawdata)\n"
   ]
  }
 ],
 "metadata": {
  "kernelspec": {
   "display_name": "Python 3",
   "language": "python",
   "name": "python3"
  },
  "language_info": {
   "codemirror_mode": {
    "name": "ipython",
    "version": 3
   },
   "file_extension": ".py",
   "mimetype": "text/x-python",
   "name": "python",
   "nbconvert_exporter": "python",
   "pygments_lexer": "ipython3",
   "version": "3.6.8"
  }
 },
 "nbformat": 4,
 "nbformat_minor": 2
}
