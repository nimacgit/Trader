{
 "cells": [
  {
   "cell_type": "code",
   "execution_count": 38,
   "metadata": {
    "ExecuteTime": {
     "end_time": "2019-08-03T02:38:39.809395Z",
     "start_time": "2019-08-03T02:38:31.957832Z"
    }
   },
   "outputs": [],
   "source": [
    "!pip3 install -q selenium bs4\n",
    "from selenium import webdriver\n",
    "from requests import Session, Request\n",
    "import pickle\n",
    "from bs4 import BeautifulSoup as bs\n",
    "import time\n",
    "from pathlib import Path"
   ]
  },
  {
   "cell_type": "code",
   "execution_count": null,
   "metadata": {},
   "outputs": [],
   "source": []
  },
  {
   "cell_type": "code",
   "execution_count": null,
   "metadata": {
    "ExecuteTime": {
     "start_time": "2019-08-03T03:04:45.160Z"
    }
   },
   "outputs": [],
   "source": [
    "file_object = open(\"user.pkl\", 'ab')\n",
    "parentPageUrl = 'http://www.tsetmc.com/Loader.aspx?ParTree=15131F'\n",
    "saveLocation = \"../xcels/\"\n",
    "\n",
    "session = Session()\n",
    "request = Request(\"Get\", parentPageUrl)\n",
    "prepared = session.prepare_request(request)\n",
    "respond = session.send(prepared, verify=False)\n",
    "\n",
    "startYear = 1398\n",
    "endYear = 1399\n",
    "monthDays = [31, 31, 31, 31, 31, 31, 30, 30, 30, 30, 30, 29]\n",
    "\n",
    "for year in range(startYear, endYear):\n",
    "    for month in range(12):\n",
    "        for day in range(monthDays[month]):\n",
    "#             print(str(year) + \"-\" + str(month+1) + \"-\" + str(day+1))\n",
    "            if not Path(saveLocation + str(year) + \"-\" + str(month+1) + \"-\" + str(day+1) + \".xlsx\").is_file():\n",
    "                with open(saveLocation + str(year) + \"-\" + str(month+1) + \"-\" + str(day+1) +\n",
    "                          \".xlsx\", 'wb') as f:\n",
    "                    xcelUrl = \"http://members.tsetmc.com/tsev2/excel/MarketWatchPlus.aspx?d=\" + \\\n",
    "                        str(year) + \"/\" + str(month+1) + \"/\" + str(day+1)\n",
    "                    xcelRequest = Request(\"Get\", xcelUrl)\n",
    "                    xcelPrepared = session.prepare_request(xcelRequest)\n",
    "                    xcelRespond = session.send(xcelPrepared, verify=False, stream=True)\n",
    "                    xcelRespond.raise_for_status()\n",
    "                    for chunk in xcelRespond.iter_content(chunk_size=8192): \n",
    "                        if chunk: # filter out keep-alive new chunks\n",
    "                            f.write(chunk)\n",
    "                        # f.flush()\n",
    "                    time.sleep(30)\n",
    "print(xcelRespond.cookies)\n",
    "\n"
   ]
  },
  {
   "cell_type": "code",
   "execution_count": null,
   "metadata": {},
   "outputs": [],
   "source": [
    "# # pickle.dump(requests.utils.dict_from_cookiejar(resp.cookies), file_object)\n",
    "\n",
    "# soup = bs(resp.text, 'html.parser')\n",
    "# name = soup.find_all(itemprop='name')\n",
    "# name = [x.get_text() for x in name]\n",
    "# moredis = soup.findAll(\"p\", {\"class\": \"prd-desc more\"})\n",
    "# moredis = [x.get_text() for x in moredis]\n",
    "# weight = soup.findAll(\"span\", {\"class\": \"unit\"})\n",
    "# weight = [x.get_text() for x in weight]\n",
    "\n",
    "# import datetime\n",
    "# now = datetime.datetime.now()\n",
    "\n",
    "# with open('somefile') as f:\n",
    "#     cookies = requests.utils.cookiejar_from_dict(pickle.load(f))\n",
    "#     session = requests.session(cookies=cookies)\n",
    "\n",
    "# from http.cookies import SimpleCookie\n",
    "# rawdata = 'Cookie: _ga=GA1.2.969355752.1534482039;' \\\n",
    "#           ' JSESSIONID=nM0Rmitqyzs4sWMMdOBXB5BDbq09pS3ilLqwUJOV1bCZv_BxQgHS!484861232'\n",
    "# cookie = SimpleCookie()\n",
    "# cookie.load(rawdata)\n"
   ]
  }
 ],
 "metadata": {
  "kernelspec": {
   "display_name": "Python 3",
   "language": "python",
   "name": "python3"
  },
  "language_info": {
   "codemirror_mode": {
    "name": "ipython",
    "version": 3
   },
   "file_extension": ".py",
   "mimetype": "text/x-python",
   "name": "python",
   "nbconvert_exporter": "python",
   "pygments_lexer": "ipython3",
   "version": "3.6.8"
  }
 },
 "nbformat": 4,
 "nbformat_minor": 2
}
