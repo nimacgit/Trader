{
 "cells": [
  {
   "cell_type": "code",
   "execution_count": 1,
   "metadata": {
    "ExecuteTime": {
     "end_time": "2019-08-30T06:28:59.792962Z",
     "start_time": "2019-08-30T06:28:58.363773Z"
    }
   },
   "outputs": [],
   "source": [
    "import pandas as pd\n",
    "import random\n",
    "from collections import Counter\n",
    "import numpy as np\n",
    "# !pip3 install -q sklearn\n",
    "from sklearn.linear_model import LinearRegression\n",
    "# import tensorflow as tf\n",
    "# import tensorflow.keras as keras\n",
    "# from tensorflow.keras.models import Sequential\n",
    "# from tensorflow.keras.layers import Dense, LSTM, Dropout"
   ]
  },
  {
   "cell_type": "code",
   "execution_count": 2,
   "metadata": {
    "ExecuteTime": {
     "end_time": "2019-08-30T06:28:59.814330Z",
     "start_time": "2019-08-30T06:28:59.803826Z"
    }
   },
   "outputs": [],
   "source": [
    "xcelLocation = \"../xcels/\"\n",
    "# !export xcelLocation=\"../xcels/\"\n",
    "csvFileName = \"MarketWatchPlus-1398_5_7\"\n",
    "csvFileName = \"1382-2-2\"\n",
    "RECORD_THRESHOLD = 3000\n",
    "TESTCASE_NUMBER = 20\n",
    "alreadyPrep = False"
   ]
  },
  {
   "cell_type": "code",
   "execution_count": 3,
   "metadata": {
    "ExecuteTime": {
     "end_time": "2019-08-30T06:29:00.205320Z",
     "start_time": "2019-08-30T06:28:59.819032Z"
    }
   },
   "outputs": [],
   "source": [
    "!ls $xcelLocation | grep \".csv\" > csvFiles\n",
    "tmp = !cat csvFiles\n",
    "csvFiles = [name[:-4] for name in tmp]"
   ]
  },
  {
   "cell_type": "code",
   "execution_count": 4,
   "metadata": {
    "ExecuteTime": {
     "end_time": "2019-08-30T06:29:00.263507Z",
     "start_time": "2019-08-30T06:29:00.229773Z"
    }
   },
   "outputs": [],
   "source": [
    "def readCsv(xcelLocation, csvFileName):\n",
    "    df=pd.read_csv(xcelLocation + csvFileName + '.csv', sep=',',header=[0])\n",
    "    return df\n",
    "\n",
    "def addDiff(df): \n",
    "    diffTable = df.loc[:,[\"symbol\", \"min\", \"max\"]]\n",
    "    difs = []\n",
    "    for row in range(len(diffTable)):\n",
    "        minim = diffTable.at[row, \"min\"]\n",
    "        maxim = diffTable.at[row, \"max\"]\n",
    "        if(minim != 0):\n",
    "            difs.append((maxim - minim)/minim * 100)\n",
    "        else:\n",
    "            difs.append(0)\n",
    "    diffTable.loc[:,\"diff\"] = difs\n",
    "    df.loc[:,\"diff\"] = difs\n",
    "    return df, diffTable"
   ]
  },
  {
   "cell_type": "code",
   "execution_count": null,
   "metadata": {},
   "outputs": [],
   "source": []
  },
  {
   "cell_type": "code",
   "execution_count": 5,
   "metadata": {
    "ExecuteTime": {
     "end_time": "2019-08-30T06:29:00.341150Z",
     "start_time": "2019-08-30T06:29:00.268442Z"
    }
   },
   "outputs": [],
   "source": [
    "def prepare():\n",
    "    global alreadyPrep\n",
    "    global df\n",
    "    global testSymbol\n",
    "    \n",
    "    if alreadyPrep:\n",
    "        return\n",
    "    alreadyPrep = True\n",
    "    \n",
    "    df0 = readCsv(xcelLocation=xcelLocation, csvFileName=\"master0\")\n",
    "    df1 = readCsv(xcelLocation=xcelLocation, csvFileName=\"master1\")\n",
    "    df = pd.concat([df0, df1], ignore_index=True)\n",
    "    df,_ = addDiff(df=df)\n",
    "\n",
    "    allSymbols = df.symbol.tolist()\n",
    "    symbols = list(set(df.symbol))[1:]\n",
    "    print(\"all symbols: \", len(symbols))\n",
    "    counts = Counter(allSymbols)\n",
    "    testSymbols = []\n",
    "    tmpSymbols = []\n",
    "    for symbol in symbols:\n",
    "        if counts[symbol] > RECORD_THRESHOLD:\n",
    "            tmpSymbols.append(symbol)\n",
    "    for i in range(TESTCASE_NUMBER):\n",
    "        ran = random.randint(0, len(tmpSymbols)-1)\n",
    "        testSymbols.append(tmpSymbols[ran])\n",
    "        tmpSymbols.remove(tmpSymbols[ran])\n",
    "    print(\"test symbol\", len(testSymbols))"
   ]
  },
  {
   "cell_type": "code",
   "execution_count": 6,
   "metadata": {
    "ExecuteTime": {
     "end_time": "2019-08-30T06:29:00.407722Z",
     "start_time": "2019-08-30T06:29:00.345128Z"
    }
   },
   "outputs": [],
   "source": [
    "def runSimulator(testDF, minMaxPredictFunction):\n",
    "    ans = testDF.iloc[len(testDF) - 1]\n",
    "    testDF = testDF.drop(len(testDF) - 1)\n",
    "    predictMin, predictMax = minMaxPredictFunction(testDF)\n",
    "\n",
    "    result = 0\n",
    "    if predictMin >= ans[\"min\"] and predictMin <= ans[\"max\"]:\n",
    "        if predictMax <= ans[\"max\"] and predictMax >= ans[\"min\"]:\n",
    "            result += 1\n",
    "        else:\n",
    "            result += 2\n",
    "    return result"
   ]
  },
  {
   "cell_type": "code",
   "execution_count": 7,
   "metadata": {
    "ExecuteTime": {
     "end_time": "2019-08-30T06:29:00.461653Z",
     "start_time": "2019-08-30T06:29:00.421645Z"
    }
   },
   "outputs": [],
   "source": [
    "def calcRate(minMaxPredictFunction):\n",
    "    prepare()\n",
    "    SS = 0\n",
    "    SF = 0\n",
    "    FF = 0\n",
    "    \n",
    "    for symbol in testSymbols:\n",
    "        testDF = df.loc[df[\"symbol\"] == symbol].reset_index(drop=True)\n",
    "        for i in range(200):\n",
    "            result = runSimulator(testDF, minMaxPredictFunction)\n",
    "            if result % 2 == 1:\n",
    "                SS += 1\n",
    "            if (result/2) % 2 == 1:\n",
    "                SF += 1\n",
    "            if result == 0:\n",
    "                FF += 1\n",
    "            testDF = testDF.drop([len(testDF) - 1, len(testDF) - 2, len(testDF) - 3, len(testDF) - 4])\n",
    "    print(\"ss, sf, ff: \", SS, \" \", SF, \" \", FF)\n",
    "    print(\"prec \", SS/(SS + SF))\n",
    "    print(\"rec \", (SS + SF)/(SS + FF + SF))\n",
    "            "
   ]
  },
  {
   "cell_type": "code",
   "execution_count": 8,
   "metadata": {
    "ExecuteTime": {
     "end_time": "2019-08-30T06:29:00.547612Z",
     "start_time": "2019-08-30T06:29:00.468334Z"
    }
   },
   "outputs": [],
   "source": [
    "def rator1(inputDF):\n",
    "    size = len(inputDF)\n",
    "    return inputDF.iloc[size - 1][\"min\"]*102/100 , inputDF.iloc[size - 1][\"max\"]"
   ]
  },
  {
   "cell_type": "code",
   "execution_count": 9,
   "metadata": {
    "ExecuteTime": {
     "end_time": "2019-08-30T06:29:00.609583Z",
     "start_time": "2019-08-30T06:29:00.551818Z"
    }
   },
   "outputs": [],
   "source": [
    "def rator2(inputDF):\n",
    "    regressor = Sequential()\n",
    "    regressor.add(LSTM(units = 50, return_sequences = True, input_shape = (X_train.shape[1], 1)))\n",
    "    regressor.add(Dropout(0.2))\n",
    "\n",
    "    regressor.add(LSTM(units = 50, return_sequences = True))\n",
    "    regressor.add(Dropout(0.2))\n",
    "\n",
    "    regressor.add(LSTM(units = 50, return_sequences = True))\n",
    "    regressor.add(Dropout(0.2))\n",
    "\n",
    "    regressor.add(LSTM(units = 50))\n",
    "    regressor.add(Dropout(0.2))\n",
    "\n",
    "    regressor.add(Dense(units = 1))\n",
    "\n",
    "    regressor.compile(optimizer = 'adam', loss = 'mean_squared_error')\n",
    "\n",
    "    regressor.fit(X_train, y_train, epochs = 100, batch_size = 32)"
   ]
  },
  {
   "cell_type": "code",
   "execution_count": null,
   "metadata": {},
   "outputs": [],
   "source": []
  },
  {
   "cell_type": "code",
   "execution_count": null,
   "metadata": {
    "ExecuteTime": {
     "end_time": "2019-08-14T12:25:16.859482Z",
     "start_time": "2019-08-14T12:25:16.740492Z"
    }
   },
   "outputs": [],
   "source": []
  },
  {
   "cell_type": "code",
   "execution_count": 10,
   "metadata": {
    "ExecuteTime": {
     "end_time": "2019-08-30T06:29:00.680454Z",
     "start_time": "2019-08-30T06:29:00.613916Z"
    }
   },
   "outputs": [],
   "source": [
    "# calcRate(rator1)"
   ]
  },
  {
   "cell_type": "code",
   "execution_count": 48,
   "metadata": {
    "ExecuteTime": {
     "end_time": "2019-08-30T06:43:38.938599Z",
     "start_time": "2019-08-30T06:43:38.930273Z"
    }
   },
   "outputs": [],
   "source": [
    "def alarm1():\n",
    "    prepare()\n",
    "    df98 = df.loc[df[\"year\"] == 1398].reset_index(drop=True)\n",
    "    hit5 = df98.loc[\n",
    "#                     (df98[\"diff\"] <= 10) & (df98[\"diff\"] > 9.8) & \n",
    "                    (df98[\"ending-percent\"] >= 4) & (df98[\"month\"] == 6) &\n",
    "                    True ].reset_index(drop=True)\n",
    "    return hit5"
   ]
  },
  {
   "cell_type": "code",
   "execution_count": 51,
   "metadata": {
    "ExecuteTime": {
     "end_time": "2019-08-30T06:43:44.979708Z",
     "start_time": "2019-08-30T06:43:44.933026Z"
    }
   },
   "outputs": [
    {
     "name": "stdout",
     "output_type": "stream",
     "text": [
      "سفانو\n",
      "كفرآور\n",
      "وبرق\n",
      "سصفها\n",
      "غفارس\n",
      "قاسم\n",
      "لكما\n",
      "سخواف\n",
      "دابور\n",
      "كاسپينح\n",
      "واحصا\n",
      "حآسا\n",
      "ولانا\n",
      "فسازان\n",
      "نمرينو\n",
      "كفرا\n"
     ]
    }
   ],
   "source": [
    "hitdf = alarm1()\n",
    "hitAllSymbols = hitdf.symbol.tolist()\n",
    "hitSymbols = list(set(hitdf.symbol))[1:]\n",
    "\n",
    "counts = Counter(hitAllSymbols)\n",
    "for symbol in hitSymbols:\n",
    "    if counts[symbol] > 3:\n",
    "        print(symbol)\n",
    "# hitdf"
   ]
  },
  {
   "cell_type": "code",
   "execution_count": null,
   "metadata": {
    "ExecuteTime": {
     "end_time": "2019-08-30T05:57:16.753572Z",
     "start_time": "2019-08-30T05:57:16.648117Z"
    }
   },
   "outputs": [],
   "source": []
  },
  {
   "cell_type": "code",
   "execution_count": null,
   "metadata": {
    "ExecuteTime": {
     "end_time": "2019-08-30T05:56:47.307473Z",
     "start_time": "2019-08-30T05:56:47.150914Z"
    }
   },
   "outputs": [],
   "source": []
  },
  {
   "cell_type": "code",
   "execution_count": null,
   "metadata": {
    "ExecuteTime": {
     "end_time": "2019-08-29T18:14:59.039025Z",
     "start_time": "2019-08-29T18:14:58.942281Z"
    }
   },
   "outputs": [],
   "source": []
  },
  {
   "cell_type": "code",
   "execution_count": null,
   "metadata": {},
   "outputs": [],
   "source": []
  },
  {
   "cell_type": "code",
   "execution_count": null,
   "metadata": {},
   "outputs": [],
   "source": []
  }
 ],
 "metadata": {
  "kernelspec": {
   "display_name": "Python 3",
   "language": "python",
   "name": "python3"
  },
  "language_info": {
   "codemirror_mode": {
    "name": "ipython",
    "version": 3
   },
   "file_extension": ".py",
   "mimetype": "text/x-python",
   "name": "python",
   "nbconvert_exporter": "python",
   "pygments_lexer": "ipython3",
   "version": "3.6.8"
  }
 },
 "nbformat": 4,
 "nbformat_minor": 2
}
