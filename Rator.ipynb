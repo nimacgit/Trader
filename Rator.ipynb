{
 "cells": [
  {
   "cell_type": "code",
   "execution_count": 81,
   "metadata": {
    "ExecuteTime": {
     "end_time": "2019-08-14T12:17:09.833606Z",
     "start_time": "2019-08-14T12:17:09.823603Z"
    }
   },
   "outputs": [],
   "source": [
    "import pandas as pd\n",
    "import random\n",
    "from collections import Counter\n",
    "import numpy as np\n",
    "from sklearn.linear_model import LinearRegression\n",
    "import tensorflow as tf\n",
    "import tensorflow.keras as keras\n",
    "from tensorflow.keras.models import Sequential\n",
    "from tensorflow.keras.layers import Dense, LSTM, Dropout"
   ]
  },
  {
   "cell_type": "code",
   "execution_count": 121,
   "metadata": {
    "ExecuteTime": {
     "end_time": "2019-08-14T12:25:09.020648Z",
     "start_time": "2019-08-14T12:25:09.004648Z"
    }
   },
   "outputs": [],
   "source": [
    "xcelLocation = \"../xcels/\"\n",
    "# !export xcelLocation=\"../xcels/\"\n",
    "csvFileName = \"MarketWatchPlus-1398_5_7\"\n",
    "csvFileName = \"1382-2-2\"\n",
    "RECORD_THRESHOLD = 3000\n",
    "TESTCASE_NUMBER = 20\n",
    "alreadyPrep = False"
   ]
  },
  {
   "cell_type": "code",
   "execution_count": 122,
   "metadata": {
    "ExecuteTime": {
     "end_time": "2019-08-14T12:25:10.148934Z",
     "start_time": "2019-08-14T12:25:09.870926Z"
    }
   },
   "outputs": [],
   "source": [
    "!ls $xcelLocation | grep \".csv\" > csvFiles\n",
    "tmp = !cat csvFiles\n",
    "csvFiles = [name[:-4] for name in tmp]"
   ]
  },
  {
   "cell_type": "code",
   "execution_count": 123,
   "metadata": {
    "ExecuteTime": {
     "end_time": "2019-08-14T12:25:10.936499Z",
     "start_time": "2019-08-14T12:25:10.887491Z"
    }
   },
   "outputs": [],
   "source": [
    "def readCsv(xcelLocation, csvFileName):\n",
    "    df=pd.read_csv(xcelLocation + csvFileName + '.csv', sep=',',header=[0])\n",
    "    return df\n",
    "\n",
    "def addDiff(df): \n",
    "    diffTable = df.loc[:,[\"نام\",\"کمترین\",\"بیشترین\"]]\n",
    "    sumdif,count = (0,0)\n",
    "    difs = []\n",
    "    for row in range(len(diffTable)):\n",
    "        minim = diffTable.loc[row][1]\n",
    "        maxim = diffTable.loc[row][2]\n",
    "        if(minim != 0):\n",
    "            count += 1\n",
    "            sumdif += (maxim - minim)/minim\n",
    "            difs.append((maxim - minim)/minim * 100)\n",
    "        else:\n",
    "            difs.append(0)\n",
    "    diffTable.loc[:,\"diffs\"] = difs\n",
    "    df.loc[:,\"diffs\"] = difs\n",
    "    return df, diffTable, sumdif, count"
   ]
  },
  {
   "cell_type": "code",
   "execution_count": null,
   "metadata": {},
   "outputs": [],
   "source": []
  },
  {
   "cell_type": "code",
   "execution_count": 124,
   "metadata": {
    "ExecuteTime": {
     "end_time": "2019-08-14T12:25:12.475962Z",
     "start_time": "2019-08-14T12:25:12.418978Z"
    }
   },
   "outputs": [],
   "source": [
    "def prepare():\n",
    "    global alreadyPrep\n",
    "    global df\n",
    "    global minMaxDF\n",
    "    global testNames\n",
    "    \n",
    "    if alreadyPrep:\n",
    "        return\n",
    "    alreadyPrep = True\n",
    "    \n",
    "    df = readCsv(xcelLocation=xcelLocation, csvFileName=\"master\")\n",
    "    minMaxDF = df.loc[:,[\"نام\",\"کمترین\",\"بیشترین\", \"قیمت پایانی - مقدار\", \"year\", \"month\", \"day\"]]\n",
    "    minMaxDF.columns = [\"name\", \"min\", \"max\", \"close\", \"year\", \"month\", \"day\"]\n",
    "    \n",
    "    allNames = minMaxDF.name.tolist()\n",
    "    names = sorted(list(set(minMaxDF.name))[1:])\n",
    "    print(len(names))\n",
    "    counts = Counter(allNames)\n",
    "    testNames = []\n",
    "    tmpNames = []\n",
    "    for name in names:\n",
    "        if counts[name] > RECORD_THRESHOLD:\n",
    "            tmpNames.append(name)\n",
    "    for i in range(TESTCASE_NUMBER):\n",
    "        ran = random.randint(0, len(tmpNames))\n",
    "        testNames.append(tmpNames[ran])\n",
    "        tmpNames.remove(tmpNames[ran])\n",
    "    print(len(testNames))"
   ]
  },
  {
   "cell_type": "code",
   "execution_count": 125,
   "metadata": {
    "ExecuteTime": {
     "end_time": "2019-08-14T12:25:13.139430Z",
     "start_time": "2019-08-14T12:25:13.111441Z"
    }
   },
   "outputs": [],
   "source": [
    "def runSimulator(testDF, minMaxPredictFunction):\n",
    "    ans = testDF.iloc[len(testDF) - 1]\n",
    "    testDF = testDF.drop(len(testDF) - 1)\n",
    "    predictMin, predictMax = minMaxPredictFunction(testDF)\n",
    "\n",
    "    result = 0\n",
    "    if predictMin >= ans[\"min\"] and predictMin <= ans[\"max\"]:\n",
    "        if predictMax <= ans[\"max\"] and predictMax >= ans[\"min\"]:\n",
    "            result += 1\n",
    "        else:\n",
    "            result += 2\n",
    "    return result"
   ]
  },
  {
   "cell_type": "code",
   "execution_count": 126,
   "metadata": {
    "ExecuteTime": {
     "end_time": "2019-08-14T12:25:13.717656Z",
     "start_time": "2019-08-14T12:25:13.699655Z"
    }
   },
   "outputs": [],
   "source": [
    "def calcRate(minMaxPredictFunction):\n",
    "    prepare()\n",
    "    SS = 0\n",
    "    SF = 0\n",
    "    FF = 0\n",
    "    \n",
    "    for name in testNames:\n",
    "        testDF = minMaxDF.loc[minMaxDF[\"name\"] == name].reset_index(drop=True)\n",
    "        for i in range(200):\n",
    "            result = runSimulator(testDF, minMaxPredictFunction)\n",
    "            if result % 2 == 1:\n",
    "                SS += 1\n",
    "            if (result/2) % 2 == 1:\n",
    "                SF += 1\n",
    "            if result == 0:\n",
    "                FF += 1\n",
    "            testDF = testDF.drop([len(testDF) - 1, len(testDF) - 2, len(testDF) - 3, len(testDF) - 4])\n",
    "    print(SS, \" \", SF, \" \", FF)\n",
    "    print(\"prec \", SS/(SS + SF))\n",
    "    print(\"rec \", (SS + SF)/(SS + FF + SF))\n",
    "            "
   ]
  },
  {
   "cell_type": "code",
   "execution_count": 127,
   "metadata": {
    "ExecuteTime": {
     "end_time": "2019-08-14T12:25:14.365083Z",
     "start_time": "2019-08-14T12:25:14.342083Z"
    }
   },
   "outputs": [],
   "source": [
    "def rator1(inputDF):\n",
    "    size = len(inputDF)\n",
    "    return inputDF.iloc[size - 1][\"min\"]*102/100 , inputDF.iloc[size - 1][\"max\"]"
   ]
  },
  {
   "cell_type": "code",
   "execution_count": 128,
   "metadata": {
    "ExecuteTime": {
     "end_time": "2019-08-14T12:25:14.981660Z",
     "start_time": "2019-08-14T12:25:14.954660Z"
    }
   },
   "outputs": [],
   "source": [
    "def rator2(inputDF):\n",
    "    regressor = Sequential()\n",
    "    regressor.add(LSTM(units = 50, return_sequences = True, input_shape = (X_train.shape[1], 1)))\n",
    "    regressor.add(Dropout(0.2))\n",
    "\n",
    "    regressor.add(LSTM(units = 50, return_sequences = True))\n",
    "    regressor.add(Dropout(0.2))\n",
    "\n",
    "    regressor.add(LSTM(units = 50, return_sequences = True))\n",
    "    regressor.add(Dropout(0.2))\n",
    "\n",
    "    regressor.add(LSTM(units = 50))\n",
    "    regressor.add(Dropout(0.2))\n",
    "\n",
    "    regressor.add(Dense(units = 1))\n",
    "\n",
    "    regressor.compile(optimizer = 'adam', loss = 'mean_squared_error')\n",
    "\n",
    "    regressor.fit(X_train, y_train, epochs = 100, batch_size = 32)"
   ]
  },
  {
   "cell_type": "code",
   "execution_count": null,
   "metadata": {},
   "outputs": [],
   "source": []
  },
  {
   "cell_type": "code",
   "execution_count": null,
   "metadata": {
    "ExecuteTime": {
     "end_time": "2019-08-14T12:25:16.859482Z",
     "start_time": "2019-08-14T12:25:16.740492Z"
    }
   },
   "outputs": [],
   "source": []
  },
  {
   "cell_type": "code",
   "execution_count": 130,
   "metadata": {
    "ExecuteTime": {
     "end_time": "2019-08-14T12:25:39.086657Z",
     "start_time": "2019-08-14T12:25:21.769674Z"
    }
   },
   "outputs": [
    {
     "name": "stdout",
     "output_type": "stream",
     "text": [
      "3128\n",
      "20\n",
      "888   787   2325\n",
      "prec  0.5301492537313433\n",
      "rec  0.41875\n"
     ]
    }
   ],
   "source": [
    "calcRate(rator1)"
   ]
  },
  {
   "cell_type": "code",
   "execution_count": null,
   "metadata": {},
   "outputs": [],
   "source": []
  }
 ],
 "metadata": {
  "kernelspec": {
   "display_name": "Python 3",
   "language": "python",
   "name": "python3"
  },
  "language_info": {
   "codemirror_mode": {
    "name": "ipython",
    "version": 3
   },
   "file_extension": ".py",
   "mimetype": "text/x-python",
   "name": "python",
   "nbconvert_exporter": "python",
   "pygments_lexer": "ipython3",
   "version": "3.7.3"
  }
 },
 "nbformat": 4,
 "nbformat_minor": 2
}
