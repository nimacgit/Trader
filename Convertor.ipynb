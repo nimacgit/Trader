{
 "cells": [
  {
   "cell_type": "code",
   "execution_count": 1,
   "metadata": {
    "ExecuteTime": {
     "end_time": "2019-08-27T18:12:21.671352Z",
     "start_time": "2019-08-27T18:12:21.648388Z"
    }
   },
   "outputs": [],
   "source": [
    "%config IPCompleter.greedy=True"
   ]
  },
  {
   "cell_type": "code",
   "execution_count": 2,
   "metadata": {
    "ExecuteTime": {
     "end_time": "2019-08-27T18:12:25.366954Z",
     "start_time": "2019-08-27T18:12:22.503875Z"
    }
   },
   "outputs": [],
   "source": [
    "import pandas as pd\n",
    "import numpy as np\n",
    "from pathlib import Path\n",
    "import os\n",
    "from threading import Thread\n",
    "from queue import Queue\n",
    "import multiprocessing"
   ]
  },
  {
   "cell_type": "code",
   "execution_count": 3,
   "metadata": {
    "ExecuteTime": {
     "end_time": "2019-08-27T18:12:25.578503Z",
     "start_time": "2019-08-27T18:12:25.372490Z"
    }
   },
   "outputs": [],
   "source": [
    "xcelLocation = \"../xcels/\"\n",
    "!export xcelLocation=\"../xcels/\""
   ]
  },
  {
   "cell_type": "code",
   "execution_count": 4,
   "metadata": {
    "ExecuteTime": {
     "end_time": "2019-08-27T18:12:25.905659Z",
     "start_time": "2019-08-27T18:12:25.592796Z"
    }
   },
   "outputs": [],
   "source": [
    "!ls $xcelLocation | grep \".xlsx\" > xlFiles\n",
    "tmp = !cat xlFiles\n",
    "names = [name[:-5] for name in tmp]"
   ]
  },
  {
   "cell_type": "code",
   "execution_count": 5,
   "metadata": {
    "ExecuteTime": {
     "end_time": "2019-08-27T18:12:25.998330Z",
     "start_time": "2019-08-27T18:12:25.919236Z"
    }
   },
   "outputs": [],
   "source": [
    "def cleaner():\n",
    "    for name in names:\n",
    "        if os.path.getsize(xcelLocation + name + '.xlsx') < 10000:\n",
    "            os.remove(xcelLocation + name + '.xlsx')\n",
    "cleaner()"
   ]
  },
  {
   "cell_type": "code",
   "execution_count": null,
   "metadata": {
    "ExecuteTime": {
     "end_time": "2019-08-27T16:44:48.610958Z",
     "start_time": "2019-08-27T16:44:48.570095Z"
    }
   },
   "outputs": [],
   "source": []
  },
  {
   "cell_type": "code",
   "execution_count": 6,
   "metadata": {
    "ExecuteTime": {
     "end_time": "2019-08-27T18:12:27.445004Z",
     "start_time": "2019-08-27T18:12:27.433712Z"
    }
   },
   "outputs": [],
   "source": [
    "def convert(xcelLocation, xlFileName, returnAllMode=False):\n",
    "    xl = None\n",
    "    try:\n",
    "        if (not Path(xcelLocation + xlFileName + '.csv').is_file()) or returnAllMode:\n",
    "            xl = pd.read_excel(xcelLocation + xlFileName + \".xlsx\", index_col=0,\n",
    "                               header=[0], skiprows=[0,1])\n",
    "            xl.to_csv(xcelLocation + xlFileName + '.csv', encoding='utf-8', index=False)\n",
    "    except:\n",
    "        xl = str(xlFileName)\n",
    "    finally:\n",
    "        return xl"
   ]
  },
  {
   "cell_type": "code",
   "execution_count": 7,
   "metadata": {
    "ExecuteTime": {
     "end_time": "2019-08-27T18:12:28.051486Z",
     "start_time": "2019-08-27T18:12:28.019493Z"
    }
   },
   "outputs": [],
   "source": [
    "def convertThread(threadname, q, qDFs, qErrors):\n",
    "    while not q.empty():\n",
    "        fileNames = q.get()\n",
    "        q.task_done()\n",
    "        for name in fileNames:\n",
    "            tmp = convert(xcelLocation=xcelLocation, xlFileName=name, returnAllMode=True)\n",
    "            if isinstance(tmp, str):\n",
    "                qErrors.put(tmp)\n",
    "            else:\n",
    "                qDFs.put((tmp.copy(), name))\n",
    "    print(str(threadname) + \" done\")\n"
   ]
  },
  {
   "cell_type": "code",
   "execution_count": null,
   "metadata": {},
   "outputs": [],
   "source": []
  },
  {
   "cell_type": "code",
   "execution_count": null,
   "metadata": {
    "ExecuteTime": {
     "start_time": "2019-08-27T18:38:29.831Z"
    }
   },
   "outputs": [
    {
     "name": "stdout",
     "output_type": "stream",
     "text": [
      "4410\n",
      "441\n",
      "Thread-7 done\n",
      "Thread-2 done\n",
      "Thread-3 done\n",
      "Thread-9 done\n",
      "Thread-12 done\n",
      "Thread-13 done\n",
      "Thread-15 done\n",
      "Thread-11 done\n",
      "Thread-8 done\n",
      "Thread-1 done\n",
      "Thread-6 done\n",
      "Thread-10 done\n",
      "Thread-4 done\n",
      "Thread-0 done\n",
      "Thread-5 done\n",
      "Thread-14 done\n"
     ]
    }
   ],
   "source": [
    "allDFs = []\n",
    "allDFNames = []\n",
    "batchSize = 10\n",
    "i = 0\n",
    "numThread = 16\n",
    "workers = []\n",
    "\n",
    "pool = multiprocessing.Pool(processes=numThread)\n",
    "m = multiprocessing.Manager()\n",
    "queue = m.Queue()\n",
    "qDFs = m.Queue()\n",
    "qErrors = m.Queue()\n",
    "\n",
    "while i*batchSize < len(names):\n",
    "    if (i+1)*batchSize < len(names):\n",
    "        queue.put(names[i*batchSize:(i+1)*batchSize])\n",
    "    else:\n",
    "        queue.put(names[i*10:])\n",
    "    i+=1\n",
    "print(len(names))\n",
    "print(queue.qsize())\n",
    "\n",
    "for i in range(numThread):\n",
    "#     workers.append(Thread(target=readThread, args=(\"Thread-\" + str(i), queue, qsum, qcount)))\n",
    "#     workers.append(pool.apply_async(readThread, (\"Thread-\" + str(i), queue, qsum, qcount,)))\n",
    "    workers.append(multiprocessing.Process(target=convertThread, args=(\"Thread-\" + str(i),\n",
    "                                                                    queue, qDFs, qErrors)))\n",
    "    workers[i].start()\n",
    "\n",
    "for i in range(numThread):\n",
    "    workers[i].join()\n",
    "\n",
    "while not qDFs.empty():\n",
    "    dftmp, nametmp = qDFs.get()\n",
    "    allDFs.append(dftmp)\n",
    "    allDFNames.append(nametmp)"
   ]
  },
  {
   "cell_type": "code",
   "execution_count": null,
   "metadata": {
    "ExecuteTime": {
     "start_time": "2019-08-27T18:38:30.726Z"
    }
   },
   "outputs": [],
   "source": [
    "print(len(allDFs))\n",
    "def makeMasterTable():\n",
    "    for index, df in enumerate(allDFs):\n",
    "        year, month, day = allDFNames[index].split(\"-\")\n",
    "        yearlist = np.full(len(df), year).tolist()\n",
    "        monthlist = np.full(len(df), month).tolist()\n",
    "        daylist = np.full(len(df), day).tolist()\n",
    "        df[\"year\"] = yearlist\n",
    "        df[\"month\"] = monthlist\n",
    "        df[\"day\"] = daylist\n",
    "    xl = pd.concat(allDFs, keys=allDFNames, ignore_index=True)\n",
    "    xl.to_csv(xcelLocation + 'master.csv', encoding='utf-8', index=False)\n",
    "    return xl\n",
    "allDF = makeMasterTable()"
   ]
  },
  {
   "cell_type": "code",
   "execution_count": null,
   "metadata": {
    "ExecuteTime": {
     "end_time": "2019-08-02T08:26:12.523790Z",
     "start_time": "2019-08-02T08:26:12.515650Z"
    }
   },
   "outputs": [],
   "source": []
  },
  {
   "cell_type": "code",
   "execution_count": null,
   "metadata": {
    "ExecuteTime": {
     "start_time": "2019-08-27T18:38:34.080Z"
    }
   },
   "outputs": [],
   "source": [
    "allDF.loc[allDF[\"نام\"] == \"شير و گوشت زاگرس شهركرد\"]"
   ]
  },
  {
   "cell_type": "code",
   "execution_count": null,
   "metadata": {
    "ExecuteTime": {
     "end_time": "2019-08-02T17:28:15.173952Z",
     "start_time": "2019-08-02T17:28:15.168395Z"
    }
   },
   "outputs": [],
   "source": []
  },
  {
   "cell_type": "code",
   "execution_count": null,
   "metadata": {
    "ExecuteTime": {
     "end_time": "2019-08-02T17:26:55.688946Z",
     "start_time": "2019-08-02T17:26:55.629137Z"
    }
   },
   "outputs": [],
   "source": []
  },
  {
   "cell_type": "code",
   "execution_count": null,
   "metadata": {},
   "outputs": [],
   "source": []
  }
 ],
 "metadata": {
  "kernelspec": {
   "display_name": "Python 3",
   "language": "python",
   "name": "python3"
  },
  "language_info": {
   "codemirror_mode": {
    "name": "ipython",
    "version": 3
   },
   "file_extension": ".py",
   "mimetype": "text/x-python",
   "name": "python",
   "nbconvert_exporter": "python",
   "pygments_lexer": "ipython3",
   "version": "3.6.8"
  }
 },
 "nbformat": 4,
 "nbformat_minor": 2
}
