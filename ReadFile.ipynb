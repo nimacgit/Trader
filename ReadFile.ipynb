{
 "cells": [
  {
   "cell_type": "code",
   "execution_count": 4,
   "metadata": {
    "ExecuteTime": {
     "end_time": "2019-07-30T15:12:07.897941Z",
     "start_time": "2019-07-30T15:12:07.876553Z"
    }
   },
   "outputs": [],
   "source": [
    "%config IPCompleter.greedy=True"
   ]
  },
  {
   "cell_type": "code",
   "execution_count": null,
   "metadata": {},
   "outputs": [],
   "source": [
    "import pandas as pd"
   ]
  },
  {
   "cell_type": "code",
   "execution_count": 78,
   "metadata": {
    "ExecuteTime": {
     "end_time": "2019-07-30T17:55:32.239242Z",
     "start_time": "2019-07-30T17:55:32.227555Z"
    }
   },
   "outputs": [],
   "source": [
    "# xlFileName = \"MarketWatchPlus-1398_5_7\""
   ]
  },
  {
   "cell_type": "code",
   "execution_count": null,
   "metadata": {},
   "outputs": [],
   "source": []
  },
  {
   "cell_type": "code",
   "execution_count": 76,
   "metadata": {
    "ExecuteTime": {
     "end_time": "2019-07-30T17:54:50.943217Z",
     "start_time": "2019-07-30T17:54:50.597517Z"
    }
   },
   "outputs": [],
   "source": [
    "!ls .. | grep \".xlsx\" > xlFiles\n",
    "tmp = !cat xlFiles\n",
    "names = [name[:-5] for name in tmp]"
   ]
  },
  {
   "cell_type": "code",
   "execution_count": 80,
   "metadata": {
    "ExecuteTime": {
     "end_time": "2019-07-30T17:56:00.823427Z",
     "start_time": "2019-07-30T17:56:00.815485Z"
    }
   },
   "outputs": [],
   "source": [
    "def convert(xlFileName):\n",
    "    xl = pd.read_excel('../' + xlFileName + \".xlsx\", index_col=0, header=[0], skiprows=[0,1])\n",
    "    xl.to_csv('../' + xlFileName + '.csv', encoding='utf-8', index=False)"
   ]
  },
  {
   "cell_type": "code",
   "execution_count": 82,
   "metadata": {
    "ExecuteTime": {
     "end_time": "2019-07-30T17:56:35.565064Z",
     "start_time": "2019-07-30T17:56:34.408881Z"
    }
   },
   "outputs": [],
   "source": [
    "for name in names:\n",
    "    convert(name)"
   ]
  },
  {
   "cell_type": "code",
   "execution_count": null,
   "metadata": {
    "ExecuteTime": {
     "end_time": "2019-07-30T17:55:52.313523Z",
     "start_time": "2019-07-30T17:55:52.301605Z"
    }
   },
   "outputs": [],
   "source": []
  },
  {
   "cell_type": "code",
   "execution_count": 52,
   "metadata": {
    "ExecuteTime": {
     "end_time": "2019-07-30T17:50:38.594000Z",
     "start_time": "2019-07-30T17:50:38.555273Z"
    }
   },
   "outputs": [
    {
     "data": {
      "text/plain": [
       "Index(['نام', 'تعداد', 'حجم', 'ارزش', 'دیروز', 'اولین', 'آخرین معامله - مقدار',\n",
       "       'آخرین معامله - تغییر', 'آخرین معامله - درصد', 'قیمت پایانی - مقدار',\n",
       "       'قیمت پایانی - تغییر', 'قیمت پایانی - درصد', 'کمترین', 'بیشترین', 'EPS',\n",
       "       'P/E', 'خرید - تعداد', 'خرید - حجم', 'خرید - قیمت', 'فروش - قیمت',\n",
       "       'فروش - حجم', 'فروش - تعداد'],\n",
       "      dtype='object')"
      ]
     },
     "execution_count": 52,
     "metadata": {},
     "output_type": "execute_result"
    }
   ],
   "source": [
    "df=pd.read_csv('../' + xlFileName + '.csv', sep=',',header=[0])\n",
    "df.columns"
   ]
  },
  {
   "cell_type": "code",
   "execution_count": null,
   "metadata": {},
   "outputs": [],
   "source": []
  },
  {
   "cell_type": "code",
   "execution_count": null,
   "metadata": {},
   "outputs": [],
   "source": []
  }
 ],
 "metadata": {
  "kernelspec": {
   "display_name": "Python 3",
   "language": "python",
   "name": "python3"
  },
  "language_info": {
   "codemirror_mode": {
    "name": "ipython",
    "version": 3
   },
   "file_extension": ".py",
   "mimetype": "text/x-python",
   "name": "python",
   "nbconvert_exporter": "python",
   "pygments_lexer": "ipython3",
   "version": "3.6.8"
  }
 },
 "nbformat": 4,
 "nbformat_minor": 2
}
