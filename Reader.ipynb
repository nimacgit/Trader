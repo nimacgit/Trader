{
 "cells": [
  {
   "cell_type": "code",
   "execution_count": 1,
   "metadata": {
    "ExecuteTime": {
     "end_time": "2019-08-27T18:18:29.457741Z",
     "start_time": "2019-08-27T18:18:26.580395Z"
    }
   },
   "outputs": [],
   "source": [
    "import pandas as pd\n",
    "from threading import Thread\n",
    "from queue import Queue\n",
    "import multiprocessing"
   ]
  },
  {
   "cell_type": "code",
   "execution_count": 2,
   "metadata": {
    "ExecuteTime": {
     "end_time": "2019-08-27T18:18:29.695677Z",
     "start_time": "2019-08-27T18:18:29.462258Z"
    }
   },
   "outputs": [],
   "source": [
    "xcelLocation = \"../xcels/\"\n",
    "!export xcelLocation=\"../xcels/\"\n",
    "csvFileName = \"MarketWatchPlus-1398_5_7\"\n",
    "csvFileName = \"1382-2-2\""
   ]
  },
  {
   "cell_type": "code",
   "execution_count": 3,
   "metadata": {
    "ExecuteTime": {
     "end_time": "2019-08-27T18:18:30.022686Z",
     "start_time": "2019-08-27T18:18:29.717243Z"
    }
   },
   "outputs": [],
   "source": [
    "!ls $xcelLocation | grep \".csv\" > csvFiles\n",
    "tmp = !cat csvFiles\n",
    "csvFiles = [name[:-4] for name in tmp]"
   ]
  },
  {
   "cell_type": "code",
   "execution_count": 4,
   "metadata": {
    "ExecuteTime": {
     "end_time": "2019-08-27T18:18:30.060840Z",
     "start_time": "2019-08-27T18:18:30.037216Z"
    }
   },
   "outputs": [],
   "source": [
    "def readCsv(xcelLocation, csvFileName):\n",
    "    df=pd.read_csv(xcelLocation + csvFileName + '.csv', sep=',',header=[0])\n",
    "    return df\n",
    "\n",
    "def addDiff(df): \n",
    "    diffTable = df.loc[:,[\"نام\",\"کمترین\",\"بیشترین\"]]\n",
    "    sumdif,count = (0,0)\n",
    "    difs = []\n",
    "    for row in range(len(diffTable)):\n",
    "        minim = diffTable.loc[row][1]\n",
    "        maxim = diffTable.loc[row][2]\n",
    "        if(minim != 0):\n",
    "            count += 1\n",
    "            sumdif += (maxim - minim)/minim\n",
    "            difs.append((maxim - minim)/minim * 100)\n",
    "        else:\n",
    "            difs.append(0)\n",
    "    diffTable.loc[:,\"diffs\"] = difs\n",
    "    df.loc[:,\"diffs\"] = difs\n",
    "    return df, diffTable, sumdif, count"
   ]
  },
  {
   "cell_type": "code",
   "execution_count": 5,
   "metadata": {
    "ExecuteTime": {
     "end_time": "2019-08-27T18:18:30.312179Z",
     "start_time": "2019-08-27T18:18:30.065701Z"
    }
   },
   "outputs": [],
   "source": [
    "df = readCsv(xcelLocation=xcelLocation, csvFileName=csvFileName)\n",
    "df, diffTable, sumdif, count = addDiff(df)"
   ]
  },
  {
   "cell_type": "code",
   "execution_count": 6,
   "metadata": {
    "ExecuteTime": {
     "end_time": "2019-08-27T18:18:30.327599Z",
     "start_time": "2019-08-27T18:18:30.316763Z"
    }
   },
   "outputs": [],
   "source": [
    "def readThread(threadname, q, qsum, qcount):\n",
    "    while not q.empty():\n",
    "        csvNames = q.get()\n",
    "        q.task_done()\n",
    "        \n",
    "        for csvName in csvNames:\n",
    "            df = readCsv(xcelLocation=xcelLocation, csvFileName=csvName)\n",
    "            df, diffTable, sumdif, count = addDiff(df)\n",
    "            qsum.put(sumdif)\n",
    "            qcount.put(count)\n",
    "    print(str(threadname) + \" done\")"
   ]
  },
  {
   "cell_type": "code",
   "execution_count": null,
   "metadata": {
    "ExecuteTime": {
     "start_time": "2019-08-27T18:44:30.841Z"
    }
   },
   "outputs": [
    {
     "name": "stdout",
     "output_type": "stream",
     "text": [
      "4227\n",
      "423\n",
      "Thread-3 done\n",
      "Thread-4 done\n",
      "Thread-1 done\n",
      "Thread-6 done\n",
      "Thread-2 done\n",
      "Thread-7 done\n",
      "Thread-0 done\n"
     ]
    }
   ],
   "source": [
    "# print(sumdif/count)\n",
    "# diffTable\n",
    "sums, counts = 0,0\n",
    "batchSize = 10\n",
    "i = 0\n",
    "numThread = 8\n",
    "workers = []\n",
    "\n",
    "pool = multiprocessing.Pool(processes=numThread)\n",
    "m = multiprocessing.Manager()\n",
    "queue = m.Queue()\n",
    "qsum = m.Queue()\n",
    "qcount = m.Queue()\n",
    "\n",
    "\n",
    "while i*batchSize < len(csvFiles):\n",
    "    if (i+1)*batchSize < len(csvFiles):\n",
    "        queue.put(csvFiles[i*batchSize:(i+1)*batchSize])\n",
    "    else:\n",
    "        queue.put(csvFiles[i*10:])\n",
    "    i+=1\n",
    "print(len(csvFiles))\n",
    "print(queue.qsize())\n",
    "\n",
    "for i in range(numThread):\n",
    "#     workers.append(Thread(target=readThread, args=(\"Thread-\" + str(i), queue, qsum, qcount)))\n",
    "#     workers.append(pool.apply_async(readThread, (\"Thread-\" + str(i), queue, qsum, qcount,)))\n",
    "    workers.append(multiprocessing.Process(target=readThread, args=(\"Thread-\" + str(i),\n",
    "                                                                    queue, qsum, qcount)))\n",
    "    workers[i].start()\n",
    "\n",
    "for i in range(numThread):\n",
    "    workers[i].join()\n"
   ]
  },
  {
   "cell_type": "code",
   "execution_count": null,
   "metadata": {
    "ExecuteTime": {
     "start_time": "2019-08-27T18:44:31.700Z"
    }
   },
   "outputs": [],
   "source": [
    "sums = []\n",
    "counts = []\n",
    "while not qsum.empty():\n",
    "    sums.append(qsum.get())\n",
    "while not qcount.empty():\n",
    "    counts.append(qcount.get())"
   ]
  },
  {
   "cell_type": "code",
   "execution_count": null,
   "metadata": {
    "ExecuteTime": {
     "start_time": "2019-08-27T18:44:34.622Z"
    }
   },
   "outputs": [],
   "source": [
    "sumss, countss = 0,0\n",
    "for num in sums:\n",
    "    sumss += num\n",
    "for num in counts:\n",
    "    countss += num\n",
    "print(sumss/countss)"
   ]
  },
  {
   "cell_type": "code",
   "execution_count": null,
   "metadata": {
    "ExecuteTime": {
     "end_time": "2019-08-01T12:51:28.705942Z",
     "start_time": "2019-08-01T12:51:28.696262Z"
    }
   },
   "outputs": [],
   "source": []
  },
  {
   "cell_type": "code",
   "execution_count": null,
   "metadata": {
    "ExecuteTime": {
     "start_time": "2019-08-03T02:56:45.540Z"
    }
   },
   "outputs": [],
   "source": [
    "\n",
    "# with open('7mivePrice.csv', 'a', encoding=\"utf-16\") as csvfile:\n",
    "#     excel = csv.writer(csvfile)\n",
    "#     print(\"test\" + str(name[0]) + \" \" + str(price[0]))\n",
    "#     for a, b, c, d in zip(price, name, moredis, weight):\n",
    "#         excel.writerow([str(a), str(b), now, str(c), str(d)])\n",
    "         #excel.writerow([str(a).encode(sys.stdout.encoding, errors='replace')] + [str(b).encode(sys.stdout.encoding, errors='replace')])\n"
   ]
  },
  {
   "cell_type": "code",
   "execution_count": null,
   "metadata": {
    "ExecuteTime": {
     "start_time": "2019-08-03T02:56:45.543Z"
    }
   },
   "outputs": [],
   "source": [
    "xcel57 = readCsv(\"../\", \"MarketWatchPlus-1398_5_7\")\n",
    "xcel58 = readCsv(\"../\", \"MarketWatchPlus-1398_5_8\")\n",
    "xcel59 = readCsv(\"../\", \"MarketWatchPlus-1398_5_9\")\n",
    "_,xcel57,_,_ = addDiff(xcel57)\n",
    "_,xcel58,_,_ = addDiff(xcel58)\n",
    "_,xcel59,_,_ = addDiff(xcel59)\n",
    "col = [col for col in xcel57.columns]\n",
    "col[0] = \"name\"\n",
    "col[1] = \"min\"\n",
    "col[2] = \"max\"\n",
    "xcel57.columns = col\n",
    "xcel58.columns = col\n",
    "xcel59.columns = col"
   ]
  },
  {
   "cell_type": "code",
   "execution_count": null,
   "metadata": {
    "ExecuteTime": {
     "start_time": "2019-08-03T02:56:45.546Z"
    }
   },
   "outputs": [],
   "source": [
    "sumdiffList = []\n",
    "for index in range(len(xcel57)):\n",
    "    sumdiff = 0\n",
    "    name = xcel57.loc[index,\"name\"]\n",
    "    row = xcel57.loc[xcel57[\"name\"] == name]\n",
    "    sumdiff += row.loc[row.index[0], \"diffs\"]\n",
    "    row = xcel58.loc[xcel58[\"name\"] == name]\n",
    "    if len(row) > 0:\n",
    "        sumdiff += row.loc[row.index[0], \"diffs\"]\n",
    "    row = xcel59.loc[xcel59[\"name\"] == name]\n",
    "    if len(row) > 0:\n",
    "        sumdiff += row.loc[row.index[0], \"diffs\"]\n",
    "    sumdiffList.append((sumdiff, name))"
   ]
  },
  {
   "cell_type": "code",
   "execution_count": null,
   "metadata": {
    "ExecuteTime": {
     "start_time": "2019-08-03T02:56:45.552Z"
    }
   },
   "outputs": [],
   "source": [
    "sumdiffList.sort(reverse=True)"
   ]
  },
  {
   "cell_type": "code",
   "execution_count": null,
   "metadata": {
    "ExecuteTime": {
     "start_time": "2019-08-03T02:56:45.557Z"
    }
   },
   "outputs": [],
   "source": [
    "sumdiffList"
   ]
  },
  {
   "cell_type": "code",
   "execution_count": null,
   "metadata": {},
   "outputs": [],
   "source": []
  }
 ],
 "metadata": {
  "kernelspec": {
   "display_name": "Python 3",
   "language": "python",
   "name": "python3"
  },
  "language_info": {
   "codemirror_mode": {
    "name": "ipython",
    "version": 3
   },
   "file_extension": ".py",
   "mimetype": "text/x-python",
   "name": "python",
   "nbconvert_exporter": "python",
   "pygments_lexer": "ipython3",
   "version": "3.6.8"
  }
 },
 "nbformat": 4,
 "nbformat_minor": 2
}
