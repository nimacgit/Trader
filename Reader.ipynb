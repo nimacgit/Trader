{
 "cells": [
  {
   "cell_type": "code",
   "execution_count": 1,
   "metadata": {
    "ExecuteTime": {
     "end_time": "2019-08-01T12:46:05.521853Z",
     "start_time": "2019-08-01T12:46:04.804456Z"
    }
   },
   "outputs": [],
   "source": [
    "import pandas as pd\n",
    "from threading import Thread\n",
    "from queue import Queue\n",
    "import multiprocessing"
   ]
  },
  {
   "cell_type": "code",
   "execution_count": 2,
   "metadata": {
    "ExecuteTime": {
     "end_time": "2019-08-01T12:46:05.713833Z",
     "start_time": "2019-08-01T12:46:05.526497Z"
    }
   },
   "outputs": [],
   "source": [
    "xcelLocation = \"../xcels/\"\n",
    "!export xcelLocation=\"../xcels/\"\n",
    "csvFileName = \"MarketWatchPlus-1398_5_7\"\n",
    "csvFileName = \"1382-2-2\""
   ]
  },
  {
   "cell_type": "code",
   "execution_count": 3,
   "metadata": {
    "ExecuteTime": {
     "end_time": "2019-08-01T12:46:06.024581Z",
     "start_time": "2019-08-01T12:46:05.727513Z"
    }
   },
   "outputs": [],
   "source": [
    "!ls $xcelLocation | grep \".csv\" > csvFiles\n",
    "tmp = !cat csvFiles\n",
    "csvFiles = [name[:-4] for name in tmp]"
   ]
  },
  {
   "cell_type": "code",
   "execution_count": 4,
   "metadata": {
    "ExecuteTime": {
     "end_time": "2019-08-01T12:46:06.063783Z",
     "start_time": "2019-08-01T12:46:06.039437Z"
    }
   },
   "outputs": [],
   "source": [
    "def readCsv(xcelLocation, csvFileName):\n",
    "    df=pd.read_csv(xcelLocation + csvFileName + '.csv', sep=',',header=[0])\n",
    "    return df\n",
    "\n",
    "def addDiff(df):\n",
    "    diffTable = df[[\"نام\",\"کمترین\",\"بیشترین\"]]\n",
    "    sumdif,count = (0,0)\n",
    "    difs = []\n",
    "    for row in range(len(diffTable)):\n",
    "        minim = diffTable.loc[row][1]\n",
    "        maxim = diffTable.loc[row][2]\n",
    "        if(minim != 0):\n",
    "            count += 1\n",
    "            sumdif += (maxim - minim)/minim\n",
    "            difs.append((maxim - minim)/minim * 100)\n",
    "        else:\n",
    "            difs.append(0)\n",
    "    diffTable[\"diffs\"] = difs\n",
    "    df[\"diffs\"] = difs\n",
    "    return df, diffTable, sumdif, count"
   ]
  },
  {
   "cell_type": "code",
   "execution_count": 5,
   "metadata": {
    "ExecuteTime": {
     "end_time": "2019-08-01T12:46:06.393209Z",
     "start_time": "2019-08-01T12:46:06.068757Z"
    }
   },
   "outputs": [
    {
     "name": "stderr",
     "output_type": "stream",
     "text": [
      "/home/hpcadminuser/.local/lib/python3.6/site-packages/ipykernel_launcher.py:18: SettingWithCopyWarning: \n",
      "A value is trying to be set on a copy of a slice from a DataFrame.\n",
      "Try using .loc[row_indexer,col_indexer] = value instead\n",
      "\n",
      "See the caveats in the documentation: http://pandas.pydata.org/pandas-docs/stable/indexing.html#indexing-view-versus-copy\n"
     ]
    }
   ],
   "source": [
    "df = readCsv(xcelLocation=xcelLocation, csvFileName=csvFileName)\n",
    "df, diffTable, sumdif, count = addDiff(df)"
   ]
  },
  {
   "cell_type": "code",
   "execution_count": 6,
   "metadata": {
    "ExecuteTime": {
     "end_time": "2019-08-01T12:46:06.404792Z",
     "start_time": "2019-08-01T12:46:06.396715Z"
    }
   },
   "outputs": [],
   "source": [
    "def readThread(threadname, q, qsum, qcount):\n",
    "    while not q.empty():\n",
    "        csvNames = q.get()\n",
    "        q.task_done()\n",
    "        \n",
    "        for csvName in csvNames:\n",
    "            df = readCsv(xcelLocation=xcelLocation, csvFileName=csvName)\n",
    "            df, diffTable, sumdif, count = addDiff(df)\n",
    "            qsum.put(sumdif)\n",
    "            qcount.put(count)"
   ]
  },
  {
   "cell_type": "code",
   "execution_count": 7,
   "metadata": {
    "ExecuteTime": {
     "end_time": "2019-08-01T12:46:56.526836Z",
     "start_time": "2019-08-01T12:46:06.407771Z"
    }
   },
   "outputs": [
    {
     "name": "stdout",
     "output_type": "stream",
     "text": [
      "1907\n",
      "191\n"
     ]
    },
    {
     "name": "stderr",
     "output_type": "stream",
     "text": [
      "/home/hpcadminuser/.local/lib/python3.6/site-packages/ipykernel_launcher.py:18: SettingWithCopyWarning: \n",
      "A value is trying to be set on a copy of a slice from a DataFrame.\n",
      "Try using .loc[row_indexer,col_indexer] = value instead\n",
      "\n",
      "See the caveats in the documentation: http://pandas.pydata.org/pandas-docs/stable/indexing.html#indexing-view-versus-copy\n",
      "/home/hpcadminuser/.local/lib/python3.6/site-packages/ipykernel_launcher.py:18: SettingWithCopyWarning: \n",
      "A value is trying to be set on a copy of a slice from a DataFrame.\n",
      "Try using .loc[row_indexer,col_indexer] = value instead\n",
      "\n",
      "See the caveats in the documentation: http://pandas.pydata.org/pandas-docs/stable/indexing.html#indexing-view-versus-copy\n",
      "/home/hpcadminuser/.local/lib/python3.6/site-packages/ipykernel_launcher.py:18: SettingWithCopyWarning: \n",
      "A value is trying to be set on a copy of a slice from a DataFrame.\n",
      "Try using .loc[row_indexer,col_indexer] = value instead\n",
      "\n",
      "See the caveats in the documentation: http://pandas.pydata.org/pandas-docs/stable/indexing.html#indexing-view-versus-copy\n",
      "/home/hpcadminuser/.local/lib/python3.6/site-packages/ipykernel_launcher.py:18: SettingWithCopyWarning: \n",
      "A value is trying to be set on a copy of a slice from a DataFrame.\n",
      "Try using .loc[row_indexer,col_indexer] = value instead\n",
      "\n",
      "See the caveats in the documentation: http://pandas.pydata.org/pandas-docs/stable/indexing.html#indexing-view-versus-copy\n",
      "/home/hpcadminuser/.local/lib/python3.6/site-packages/ipykernel_launcher.py:18: SettingWithCopyWarning: \n",
      "A value is trying to be set on a copy of a slice from a DataFrame.\n",
      "Try using .loc[row_indexer,col_indexer] = value instead\n",
      "\n",
      "See the caveats in the documentation: http://pandas.pydata.org/pandas-docs/stable/indexing.html#indexing-view-versus-copy\n",
      "/home/hpcadminuser/.local/lib/python3.6/site-packages/ipykernel_launcher.py:18: SettingWithCopyWarning: \n",
      "A value is trying to be set on a copy of a slice from a DataFrame.\n",
      "Try using .loc[row_indexer,col_indexer] = value instead\n",
      "\n",
      "See the caveats in the documentation: http://pandas.pydata.org/pandas-docs/stable/indexing.html#indexing-view-versus-copy\n"
     ]
    }
   ],
   "source": [
    "# print(sumdif/count)\n",
    "# diffTable\n",
    "sums, counts = 0,0\n",
    "batchSize = 10\n",
    "i = 0\n",
    "numThread = 6\n",
    "workers = []\n",
    "\n",
    "pool = multiprocessing.Pool(processes=numThread)\n",
    "m = multiprocessing.Manager()\n",
    "queue = m.Queue()\n",
    "qsum = m.Queue()\n",
    "qcount = m.Queue()\n",
    "\n",
    "\n",
    "while i*batchSize < len(csvFiles):\n",
    "    if (i+1)*batchSize < len(csvFiles):\n",
    "        queue.put(csvFiles[i*batchSize:(i+1)*batchSize])\n",
    "    else:\n",
    "        queue.put(csvFiles[i*10:])\n",
    "    i+=1\n",
    "print(len(csvFiles))\n",
    "print(queue.qsize())\n",
    "\n",
    "for i in range(numThread):\n",
    "#     workers.append(Thread(target=readThread, args=(\"Thread-\" + str(i), queue, qsum, qcount)))\n",
    "#     workers.append(pool.apply_async(readThread, (\"Thread-\" + str(i), queue, qsum, qcount,)))\n",
    "    workers.append(multiprocessing.Process(target=readThread, args=(\"Thread-\" + str(i),\n",
    "                                                                    queue, qsum, qcount)))\n",
    "    workers[i].start()\n",
    "\n",
    "for i in range(numThread):\n",
    "    workers[i].join()\n"
   ]
  },
  {
   "cell_type": "code",
   "execution_count": 24,
   "metadata": {
    "ExecuteTime": {
     "end_time": "2019-08-01T12:52:18.783206Z",
     "start_time": "2019-08-01T12:52:17.286259Z"
    }
   },
   "outputs": [],
   "source": [
    "sums = []\n",
    "counts = []\n",
    "while not qsum.empty():\n",
    "    sums.append(qsum.get())\n",
    "while not qcount.empty():\n",
    "    counts.append(qcount.get())"
   ]
  },
  {
   "cell_type": "code",
   "execution_count": 26,
   "metadata": {
    "ExecuteTime": {
     "end_time": "2019-08-01T12:53:36.717313Z",
     "start_time": "2019-08-01T12:53:36.697500Z"
    }
   },
   "outputs": [
    {
     "name": "stdout",
     "output_type": "stream",
     "text": [
      "0.028340880454121697\n"
     ]
    }
   ],
   "source": [
    "sumss, countss = 0,0\n",
    "for num in sums:\n",
    "    sumss += num\n",
    "for num in counts:\n",
    "    countss += num\n",
    "print(sumss/countss)"
   ]
  },
  {
   "cell_type": "code",
   "execution_count": null,
   "metadata": {
    "ExecuteTime": {
     "end_time": "2019-08-01T12:51:28.705942Z",
     "start_time": "2019-08-01T12:51:28.696262Z"
    }
   },
   "outputs": [],
   "source": []
  },
  {
   "cell_type": "code",
   "execution_count": 8,
   "metadata": {
    "ExecuteTime": {
     "end_time": "2019-08-01T12:46:56.561999Z",
     "start_time": "2019-08-01T12:46:56.549042Z"
    }
   },
   "outputs": [],
   "source": [
    "\n",
    "# with open('7mivePrice.csv', 'a', encoding=\"utf-16\") as csvfile:\n",
    "#     excel = csv.writer(csvfile)\n",
    "#     print(\"test\" + str(name[0]) + \" \" + str(price[0]))\n",
    "#     for a, b, c, d in zip(price, name, moredis, weight):\n",
    "#         excel.writerow([str(a), str(b), now, str(c), str(d)])\n",
    "         #excel.writerow([str(a).encode(sys.stdout.encoding, errors='replace')] + [str(b).encode(sys.stdout.encoding, errors='replace')])\n"
   ]
  },
  {
   "cell_type": "code",
   "execution_count": null,
   "metadata": {},
   "outputs": [],
   "source": []
  },
  {
   "cell_type": "code",
   "execution_count": null,
   "metadata": {},
   "outputs": [],
   "source": []
  }
 ],
 "metadata": {
  "kernelspec": {
   "display_name": "Python 3",
   "language": "python",
   "name": "python3"
  },
  "language_info": {
   "codemirror_mode": {
    "name": "ipython",
    "version": 3
   },
   "file_extension": ".py",
   "mimetype": "text/x-python",
   "name": "python",
   "nbconvert_exporter": "python",
   "pygments_lexer": "ipython3",
   "version": "3.6.8"
  }
 },
 "nbformat": 4,
 "nbformat_minor": 2
}
